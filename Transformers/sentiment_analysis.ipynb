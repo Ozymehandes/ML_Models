{
  "cells": [
    {
      "cell_type": "code",
      "execution_count": 18,
      "metadata": {
        "colab": {
          "base_uri": "https://localhost:8080/"
        },
        "id": "vsVOpPgMbkKV",
        "outputId": "5bce4a1e-8d92-4924-a23c-4de0d1a2cd4b"
      },
      "outputs": [
        {
          "name": "stdout",
          "output_type": "stream",
          "text": [
            "Requirement already satisfied: tqdm in /usr/local/lib/python3.10/dist-packages (4.66.2)\n",
            "Requirement already satisfied: torchtext==0.6.0 in /usr/local/lib/python3.10/dist-packages (0.6.0)\n",
            "Requirement already satisfied: tqdm in /usr/local/lib/python3.10/dist-packages (from torchtext==0.6.0) (4.66.2)\n",
            "Requirement already satisfied: requests in /usr/local/lib/python3.10/dist-packages (from torchtext==0.6.0) (2.31.0)\n",
            "Requirement already satisfied: torch in /usr/local/lib/python3.10/dist-packages (from torchtext==0.6.0) (2.1.0+cu121)\n",
            "Requirement already satisfied: numpy in /usr/local/lib/python3.10/dist-packages (from torchtext==0.6.0) (1.25.2)\n",
            "Requirement already satisfied: six in /usr/local/lib/python3.10/dist-packages (from torchtext==0.6.0) (1.16.0)\n",
            "Requirement already satisfied: sentencepiece in /usr/local/lib/python3.10/dist-packages (from torchtext==0.6.0) (0.1.99)\n",
            "Requirement already satisfied: charset-normalizer<4,>=2 in /usr/local/lib/python3.10/dist-packages (from requests->torchtext==0.6.0) (3.3.2)\n",
            "Requirement already satisfied: idna<4,>=2.5 in /usr/local/lib/python3.10/dist-packages (from requests->torchtext==0.6.0) (3.6)\n",
            "Requirement already satisfied: urllib3<3,>=1.21.1 in /usr/local/lib/python3.10/dist-packages (from requests->torchtext==0.6.0) (2.0.7)\n",
            "Requirement already satisfied: certifi>=2017.4.17 in /usr/local/lib/python3.10/dist-packages (from requests->torchtext==0.6.0) (2024.2.2)\n",
            "Requirement already satisfied: filelock in /usr/local/lib/python3.10/dist-packages (from torch->torchtext==0.6.0) (3.13.1)\n",
            "Requirement already satisfied: typing-extensions in /usr/local/lib/python3.10/dist-packages (from torch->torchtext==0.6.0) (4.10.0)\n",
            "Requirement already satisfied: sympy in /usr/local/lib/python3.10/dist-packages (from torch->torchtext==0.6.0) (1.12)\n",
            "Requirement already satisfied: networkx in /usr/local/lib/python3.10/dist-packages (from torch->torchtext==0.6.0) (3.2.1)\n",
            "Requirement already satisfied: jinja2 in /usr/local/lib/python3.10/dist-packages (from torch->torchtext==0.6.0) (3.1.3)\n",
            "Requirement already satisfied: fsspec in /usr/local/lib/python3.10/dist-packages (from torch->torchtext==0.6.0) (2023.6.0)\n",
            "Requirement already satisfied: triton==2.1.0 in /usr/local/lib/python3.10/dist-packages (from torch->torchtext==0.6.0) (2.1.0)\n",
            "Requirement already satisfied: MarkupSafe>=2.0 in /usr/local/lib/python3.10/dist-packages (from jinja2->torch->torchtext==0.6.0) (2.1.5)\n",
            "Requirement already satisfied: mpmath>=0.19 in /usr/local/lib/python3.10/dist-packages (from sympy->torch->torchtext==0.6.0) (1.3.0)\n",
            "Requirement already satisfied: spacy in /usr/local/lib/python3.10/dist-packages (3.7.4)\n",
            "Requirement already satisfied: spacy-legacy<3.1.0,>=3.0.11 in /usr/local/lib/python3.10/dist-packages (from spacy) (3.0.12)\n",
            "Requirement already satisfied: spacy-loggers<2.0.0,>=1.0.0 in /usr/local/lib/python3.10/dist-packages (from spacy) (1.0.5)\n",
            "Requirement already satisfied: murmurhash<1.1.0,>=0.28.0 in /usr/local/lib/python3.10/dist-packages (from spacy) (1.0.10)\n",
            "Requirement already satisfied: cymem<2.1.0,>=2.0.2 in /usr/local/lib/python3.10/dist-packages (from spacy) (2.0.8)\n",
            "Requirement already satisfied: preshed<3.1.0,>=3.0.2 in /usr/local/lib/python3.10/dist-packages (from spacy) (3.0.9)\n",
            "Requirement already satisfied: thinc<8.3.0,>=8.2.2 in /usr/local/lib/python3.10/dist-packages (from spacy) (8.2.3)\n",
            "Requirement already satisfied: wasabi<1.2.0,>=0.9.1 in /usr/local/lib/python3.10/dist-packages (from spacy) (1.1.2)\n",
            "Requirement already satisfied: srsly<3.0.0,>=2.4.3 in /usr/local/lib/python3.10/dist-packages (from spacy) (2.4.8)\n",
            "Requirement already satisfied: catalogue<2.1.0,>=2.0.6 in /usr/local/lib/python3.10/dist-packages (from spacy) (2.0.10)\n",
            "Requirement already satisfied: weasel<0.4.0,>=0.1.0 in /usr/local/lib/python3.10/dist-packages (from spacy) (0.3.4)\n",
            "Requirement already satisfied: typer<0.10.0,>=0.3.0 in /usr/local/lib/python3.10/dist-packages (from spacy) (0.9.0)\n",
            "Requirement already satisfied: smart-open<7.0.0,>=5.2.1 in /usr/local/lib/python3.10/dist-packages (from spacy) (6.4.0)\n",
            "Requirement already satisfied: tqdm<5.0.0,>=4.38.0 in /usr/local/lib/python3.10/dist-packages (from spacy) (4.66.2)\n",
            "Requirement already satisfied: requests<3.0.0,>=2.13.0 in /usr/local/lib/python3.10/dist-packages (from spacy) (2.31.0)\n",
            "Requirement already satisfied: pydantic!=1.8,!=1.8.1,<3.0.0,>=1.7.4 in /usr/local/lib/python3.10/dist-packages (from spacy) (2.6.3)\n",
            "Requirement already satisfied: jinja2 in /usr/local/lib/python3.10/dist-packages (from spacy) (3.1.3)\n",
            "Requirement already satisfied: setuptools in /usr/local/lib/python3.10/dist-packages (from spacy) (67.7.2)\n",
            "Requirement already satisfied: packaging>=20.0 in /usr/local/lib/python3.10/dist-packages (from spacy) (23.2)\n",
            "Requirement already satisfied: langcodes<4.0.0,>=3.2.0 in /usr/local/lib/python3.10/dist-packages (from spacy) (3.3.0)\n",
            "Requirement already satisfied: numpy>=1.19.0 in /usr/local/lib/python3.10/dist-packages (from spacy) (1.25.2)\n",
            "Requirement already satisfied: annotated-types>=0.4.0 in /usr/local/lib/python3.10/dist-packages (from pydantic!=1.8,!=1.8.1,<3.0.0,>=1.7.4->spacy) (0.6.0)\n",
            "Requirement already satisfied: pydantic-core==2.16.3 in /usr/local/lib/python3.10/dist-packages (from pydantic!=1.8,!=1.8.1,<3.0.0,>=1.7.4->spacy) (2.16.3)\n",
            "Requirement already satisfied: typing-extensions>=4.6.1 in /usr/local/lib/python3.10/dist-packages (from pydantic!=1.8,!=1.8.1,<3.0.0,>=1.7.4->spacy) (4.10.0)\n",
            "Requirement already satisfied: charset-normalizer<4,>=2 in /usr/local/lib/python3.10/dist-packages (from requests<3.0.0,>=2.13.0->spacy) (3.3.2)\n",
            "Requirement already satisfied: idna<4,>=2.5 in /usr/local/lib/python3.10/dist-packages (from requests<3.0.0,>=2.13.0->spacy) (3.6)\n",
            "Requirement already satisfied: urllib3<3,>=1.21.1 in /usr/local/lib/python3.10/dist-packages (from requests<3.0.0,>=2.13.0->spacy) (2.0.7)\n",
            "Requirement already satisfied: certifi>=2017.4.17 in /usr/local/lib/python3.10/dist-packages (from requests<3.0.0,>=2.13.0->spacy) (2024.2.2)\n",
            "Requirement already satisfied: blis<0.8.0,>=0.7.8 in /usr/local/lib/python3.10/dist-packages (from thinc<8.3.0,>=8.2.2->spacy) (0.7.11)\n",
            "Requirement already satisfied: confection<1.0.0,>=0.0.1 in /usr/local/lib/python3.10/dist-packages (from thinc<8.3.0,>=8.2.2->spacy) (0.1.4)\n",
            "Requirement already satisfied: click<9.0.0,>=7.1.1 in /usr/local/lib/python3.10/dist-packages (from typer<0.10.0,>=0.3.0->spacy) (8.1.7)\n",
            "Requirement already satisfied: cloudpathlib<0.17.0,>=0.7.0 in /usr/local/lib/python3.10/dist-packages (from weasel<0.4.0,>=0.1.0->spacy) (0.16.0)\n",
            "Requirement already satisfied: MarkupSafe>=2.0 in /usr/local/lib/python3.10/dist-packages (from jinja2->spacy) (2.1.5)\n",
            "Collecting en-core-web-sm==3.7.1\n",
            "  Downloading https://github.com/explosion/spacy-models/releases/download/en_core_web_sm-3.7.1/en_core_web_sm-3.7.1-py3-none-any.whl (12.8 MB)\n",
            "\u001b[2K     \u001b[90m━━━━━━━━━━━━━━━━━━━━━━━━━━━━━━━━━━━━━━━━\u001b[0m \u001b[32m12.8/12.8 MB\u001b[0m \u001b[31m59.7 MB/s\u001b[0m eta \u001b[36m0:00:00\u001b[0m\n",
            "\u001b[?25hRequirement already satisfied: spacy<3.8.0,>=3.7.2 in /usr/local/lib/python3.10/dist-packages (from en-core-web-sm==3.7.1) (3.7.4)\n",
            "Requirement already satisfied: spacy-legacy<3.1.0,>=3.0.11 in /usr/local/lib/python3.10/dist-packages (from spacy<3.8.0,>=3.7.2->en-core-web-sm==3.7.1) (3.0.12)\n",
            "Requirement already satisfied: spacy-loggers<2.0.0,>=1.0.0 in /usr/local/lib/python3.10/dist-packages (from spacy<3.8.0,>=3.7.2->en-core-web-sm==3.7.1) (1.0.5)\n",
            "Requirement already satisfied: murmurhash<1.1.0,>=0.28.0 in /usr/local/lib/python3.10/dist-packages (from spacy<3.8.0,>=3.7.2->en-core-web-sm==3.7.1) (1.0.10)\n",
            "Requirement already satisfied: cymem<2.1.0,>=2.0.2 in /usr/local/lib/python3.10/dist-packages (from spacy<3.8.0,>=3.7.2->en-core-web-sm==3.7.1) (2.0.8)\n",
            "Requirement already satisfied: preshed<3.1.0,>=3.0.2 in /usr/local/lib/python3.10/dist-packages (from spacy<3.8.0,>=3.7.2->en-core-web-sm==3.7.1) (3.0.9)\n",
            "Requirement already satisfied: thinc<8.3.0,>=8.2.2 in /usr/local/lib/python3.10/dist-packages (from spacy<3.8.0,>=3.7.2->en-core-web-sm==3.7.1) (8.2.3)\n",
            "Requirement already satisfied: wasabi<1.2.0,>=0.9.1 in /usr/local/lib/python3.10/dist-packages (from spacy<3.8.0,>=3.7.2->en-core-web-sm==3.7.1) (1.1.2)\n",
            "Requirement already satisfied: srsly<3.0.0,>=2.4.3 in /usr/local/lib/python3.10/dist-packages (from spacy<3.8.0,>=3.7.2->en-core-web-sm==3.7.1) (2.4.8)\n",
            "Requirement already satisfied: catalogue<2.1.0,>=2.0.6 in /usr/local/lib/python3.10/dist-packages (from spacy<3.8.0,>=3.7.2->en-core-web-sm==3.7.1) (2.0.10)\n",
            "Requirement already satisfied: weasel<0.4.0,>=0.1.0 in /usr/local/lib/python3.10/dist-packages (from spacy<3.8.0,>=3.7.2->en-core-web-sm==3.7.1) (0.3.4)\n",
            "Requirement already satisfied: typer<0.10.0,>=0.3.0 in /usr/local/lib/python3.10/dist-packages (from spacy<3.8.0,>=3.7.2->en-core-web-sm==3.7.1) (0.9.0)\n",
            "Requirement already satisfied: smart-open<7.0.0,>=5.2.1 in /usr/local/lib/python3.10/dist-packages (from spacy<3.8.0,>=3.7.2->en-core-web-sm==3.7.1) (6.4.0)\n",
            "Requirement already satisfied: tqdm<5.0.0,>=4.38.0 in /usr/local/lib/python3.10/dist-packages (from spacy<3.8.0,>=3.7.2->en-core-web-sm==3.7.1) (4.66.2)\n",
            "Requirement already satisfied: requests<3.0.0,>=2.13.0 in /usr/local/lib/python3.10/dist-packages (from spacy<3.8.0,>=3.7.2->en-core-web-sm==3.7.1) (2.31.0)\n",
            "Requirement already satisfied: pydantic!=1.8,!=1.8.1,<3.0.0,>=1.7.4 in /usr/local/lib/python3.10/dist-packages (from spacy<3.8.0,>=3.7.2->en-core-web-sm==3.7.1) (2.6.3)\n",
            "Requirement already satisfied: jinja2 in /usr/local/lib/python3.10/dist-packages (from spacy<3.8.0,>=3.7.2->en-core-web-sm==3.7.1) (3.1.3)\n",
            "Requirement already satisfied: setuptools in /usr/local/lib/python3.10/dist-packages (from spacy<3.8.0,>=3.7.2->en-core-web-sm==3.7.1) (67.7.2)\n",
            "Requirement already satisfied: packaging>=20.0 in /usr/local/lib/python3.10/dist-packages (from spacy<3.8.0,>=3.7.2->en-core-web-sm==3.7.1) (23.2)\n",
            "Requirement already satisfied: langcodes<4.0.0,>=3.2.0 in /usr/local/lib/python3.10/dist-packages (from spacy<3.8.0,>=3.7.2->en-core-web-sm==3.7.1) (3.3.0)\n",
            "Requirement already satisfied: numpy>=1.19.0 in /usr/local/lib/python3.10/dist-packages (from spacy<3.8.0,>=3.7.2->en-core-web-sm==3.7.1) (1.25.2)\n",
            "Requirement already satisfied: annotated-types>=0.4.0 in /usr/local/lib/python3.10/dist-packages (from pydantic!=1.8,!=1.8.1,<3.0.0,>=1.7.4->spacy<3.8.0,>=3.7.2->en-core-web-sm==3.7.1) (0.6.0)\n",
            "Requirement already satisfied: pydantic-core==2.16.3 in /usr/local/lib/python3.10/dist-packages (from pydantic!=1.8,!=1.8.1,<3.0.0,>=1.7.4->spacy<3.8.0,>=3.7.2->en-core-web-sm==3.7.1) (2.16.3)\n",
            "Requirement already satisfied: typing-extensions>=4.6.1 in /usr/local/lib/python3.10/dist-packages (from pydantic!=1.8,!=1.8.1,<3.0.0,>=1.7.4->spacy<3.8.0,>=3.7.2->en-core-web-sm==3.7.1) (4.10.0)\n",
            "Requirement already satisfied: charset-normalizer<4,>=2 in /usr/local/lib/python3.10/dist-packages (from requests<3.0.0,>=2.13.0->spacy<3.8.0,>=3.7.2->en-core-web-sm==3.7.1) (3.3.2)\n",
            "Requirement already satisfied: idna<4,>=2.5 in /usr/local/lib/python3.10/dist-packages (from requests<3.0.0,>=2.13.0->spacy<3.8.0,>=3.7.2->en-core-web-sm==3.7.1) (3.6)\n",
            "Requirement already satisfied: urllib3<3,>=1.21.1 in /usr/local/lib/python3.10/dist-packages (from requests<3.0.0,>=2.13.0->spacy<3.8.0,>=3.7.2->en-core-web-sm==3.7.1) (2.0.7)\n",
            "Requirement already satisfied: certifi>=2017.4.17 in /usr/local/lib/python3.10/dist-packages (from requests<3.0.0,>=2.13.0->spacy<3.8.0,>=3.7.2->en-core-web-sm==3.7.1) (2024.2.2)\n",
            "Requirement already satisfied: blis<0.8.0,>=0.7.8 in /usr/local/lib/python3.10/dist-packages (from thinc<8.3.0,>=8.2.2->spacy<3.8.0,>=3.7.2->en-core-web-sm==3.7.1) (0.7.11)\n",
            "Requirement already satisfied: confection<1.0.0,>=0.0.1 in /usr/local/lib/python3.10/dist-packages (from thinc<8.3.0,>=8.2.2->spacy<3.8.0,>=3.7.2->en-core-web-sm==3.7.1) (0.1.4)\n",
            "Requirement already satisfied: click<9.0.0,>=7.1.1 in /usr/local/lib/python3.10/dist-packages (from typer<0.10.0,>=0.3.0->spacy<3.8.0,>=3.7.2->en-core-web-sm==3.7.1) (8.1.7)\n",
            "Requirement already satisfied: cloudpathlib<0.17.0,>=0.7.0 in /usr/local/lib/python3.10/dist-packages (from weasel<0.4.0,>=0.1.0->spacy<3.8.0,>=3.7.2->en-core-web-sm==3.7.1) (0.16.0)\n",
            "Requirement already satisfied: MarkupSafe>=2.0 in /usr/local/lib/python3.10/dist-packages (from jinja2->spacy<3.8.0,>=3.7.2->en-core-web-sm==3.7.1) (2.1.5)\n",
            "\u001b[38;5;2m✔ Download and installation successful\u001b[0m\n",
            "You can now load the package via spacy.load('en_core_web_sm')\n",
            "\u001b[38;5;3m⚠ Restart to reload dependencies\u001b[0m\n",
            "If you are in a Jupyter or Colab notebook, you may need to restart Python in\n",
            "order to load all the package's dependencies. You can do this by selecting the\n",
            "'Restart kernel' or 'Restart runtime' option.\n"
          ]
        }
      ],
      "source": [
        "!pip install tqdm\n",
        "!pip install torchtext==0.6.0\n",
        "!pip install spacy\n",
        "!python -m spacy download en_core_web_sm"
      ]
    },
    {
      "cell_type": "code",
      "execution_count": 19,
      "metadata": {
        "id": "QzwyIENc0WYm"
      },
      "outputs": [],
      "source": [
        "import torch\n",
        "import torchtext\n",
        "import spacy\n",
        "from torchtext.data import get_tokenizer\n",
        "from torch.utils.data import random_split\n",
        "from torchtext.experimental.datasets import IMDB\n",
        "from torch.utils.data import DataLoader\n",
        "from tqdm import tqdm\n",
        "import torch.nn.functional as F\n",
        "import os\n",
        "import numpy as np\n",
        "import matplotlib.pyplot as plt\n",
        "import torch.nn as nn"
      ]
    },
    {
      "cell_type": "code",
      "execution_count": 20,
      "metadata": {
        "id": "NPutKvK-0DBl"
      },
      "outputs": [],
      "source": [
        "class MySelfAttention(nn.Module):\n",
        "    \"\"\"\n",
        "    Self attention layer\n",
        "    \"\"\"\n",
        "    def __init__(self, input_dim):\n",
        "        \"\"\"\n",
        "        :param input_dim: The feature dimension the input tokens (d).\n",
        "        \"\"\"\n",
        "        super(MySelfAttention, self).__init__()\n",
        "        self.input_dim = input_dim\n",
        "\n",
        "        ### YOUR CODE HERE ###\n",
        "        # Initialize the query, key and value weights\n",
        "        self.query = nn.Linear(input_dim, input_dim)\n",
        "        self.key = nn.Linear(input_dim, input_dim)\n",
        "        self.value = nn.Linear(input_dim, input_dim)\n",
        "\n",
        "        self.root_input_dim = input_dim ** 0.5\n",
        "\n",
        "    def forward(self, x):\n",
        "        ### YOUR CODE HERE ###\n",
        "        Q = self.query(x)\n",
        "        K = self.key(x)\n",
        "        V = self.value(x)\n",
        "\n",
        "        # Transpose inner dimensions for attention scores calculation by forumla\n",
        "        attention_scores = torch.bmm(Q, K.transpose(1, 2)) / self.root_input_dim\n",
        "        # Normalize the scores based on the innermost dimension (the dimension of the resulting scores)\n",
        "        normalized_scores = F.softmax(attention_scores, dim=-1)\n",
        "        # Calculate self attention with relation to V(values)\n",
        "        self_attention = torch.bmm(normalized_scores, V)\n",
        "        return self_attention\n",
        "\n",
        "\n",
        "class MyLayerNorm(nn.Module):\n",
        "    \"\"\"\n",
        "    Layer Normalization layer.\n",
        "    \"\"\"\n",
        "    def __init__(self, input_dim):\n",
        "        \"\"\"\n",
        "        :param input_dim: The dimension of the input (T, d).\n",
        "        \"\"\"\n",
        "        super(MyLayerNorm, self).__init__()\n",
        "        self.gamma = nn.Parameter(torch.ones(*input_dim))\n",
        "        self.beta = nn.Parameter(torch.zeros(*input_dim))\n",
        "        self.epsilon = 1e-8\n",
        "\n",
        "    def forward(self, x):\n",
        "        ### YOUR CODE HERE ###\n",
        "        # Calculates the mean over T*d elements, in inner 2 dimensions\n",
        "        mew = x.mean(dim=(-1,-2), keepdim=True)\n",
        "        # Calculates the variance\n",
        "        sigma = (x - mew).pow(2).mean(dim=(-1,-2), keepdim=True)\n",
        "        # Returns the normalized features\n",
        "        return self.gamma * (x - mew) / torch.sqrt(sigma + self.epsilon) + self.beta\n",
        "\n",
        "class MyTransformerBlock(nn.Module):\n",
        "    \"\"\"\n",
        "    Transformer block.\n",
        "    \"\"\"\n",
        "    def __init__(self, max_len, input_dim):\n",
        "        super(MyTransformerBlock, self).__init__()\n",
        "        self.attention = MySelfAttention(input_dim)\n",
        "        self.norm1 = MyLayerNorm((max_len, input_dim))\n",
        "        self.norm2 = MyLayerNorm((max_len, input_dim))\n",
        "        self.fc1 = nn.Linear(input_dim, input_dim)\n",
        "        self.fc2 = nn.Linear(input_dim, input_dim)\n",
        "        self.dropout = nn.Dropout(0.1)\n",
        "\n",
        "    def forward(self, x):\n",
        "        out = self.attention(x)\n",
        "        x = self.norm1(self.dropout(out) + x)\n",
        "        out = self.fc2(F.relu(self.fc1(x)))\n",
        "        out = self.norm2(out + x)\n",
        "        return out\n",
        "\n",
        "class MyTransformer(nn.Module):\n",
        "    \"\"\"\n",
        "    Transformer.\n",
        "    \"\"\"\n",
        "    def __init__(self, vocab, max_len, num_of_blocks):\n",
        "        \"\"\"\n",
        "        :param vocab: The vocabulary object.\n",
        "        :param num_of_blocks: The number of transformer blocks.\n",
        "        \"\"\"\n",
        "        super(MyTransformer, self).__init__()\n",
        "        self.embedding = nn.Embedding.from_pretrained(vocab.vectors)\n",
        "        self.emb_dim = self.embedding.embedding_dim\n",
        "        self.max_len = max_len\n",
        "        self.blocks = nn.ModuleList([MyTransformerBlock(self.max_len, self.emb_dim) for _ in range(num_of_blocks)])\n",
        "        self.fc = nn.Linear(self.emb_dim, 1)\n",
        "\n",
        "    def forward(self, x):\n",
        "        x = self.embedding(x)\n",
        "        for block in self.blocks:\n",
        "            x = block(x)\n",
        "        avg_pooling = x.mean(dim=1)\n",
        "        x = self.fc(avg_pooling)\n",
        "        return x\n",
        "\n",
        "\n",
        "\n"
      ]
    },
    {
      "cell_type": "code",
      "execution_count": 21,
      "metadata": {
        "id": "WaE4fefJ48Co"
      },
      "outputs": [],
      "source": [
        "def pad_trim(data):\n",
        "    ''' Pads or trims the batch of input data.\n",
        "\n",
        "    Arguments:\n",
        "        data (torch.Tensor): input batch\n",
        "    Returns:\n",
        "        new_input (torch.Tensor): padded/trimmed input\n",
        "        labels (torch.Tensor): batch of output target labels\n",
        "    '''\n",
        "    data = list(zip(*data))\n",
        "    # Extract target output labels\n",
        "    labels = torch.tensor(data[0]).float().to(device)\n",
        "    # Extract input data\n",
        "    inputs = data[1]\n",
        "\n",
        "    # Extract only the part of the input up to the MAX_SEQ_LEN point\n",
        "    # if input sample contains more than MAX_SEQ_LEN. If not then\n",
        "    # select entire sample and append <pad_id> until the length of the\n",
        "    # sequence is MAX_SEQ_LEN\n",
        "    new_input = torch.stack([torch.cat((input[:MAX_SEQ_LEN],\n",
        "                                        torch.tensor([pad_id] * max(0, MAX_SEQ_LEN - len(input))).long()))\n",
        "                             for input in inputs])\n",
        "\n",
        "    return new_input, labels\n",
        "\n",
        "def split_train_val(train_set):\n",
        "    ''' Splits the given set into train and validation sets WRT split ratio\n",
        "    Arguments:\n",
        "        train_set: set to split\n",
        "    Returns:\n",
        "        train_set: train dataset\n",
        "        valid_set: validation dataset\n",
        "    '''\n",
        "    train_num = int(SPLIT_RATIO * len(train_set))\n",
        "    valid_num = len(train_set) - train_num\n",
        "    generator = torch.Generator().manual_seed(SEED)\n",
        "    train_set, valid_set = random_split(train_set, lengths=[train_num, valid_num],\n",
        "                                        generator=generator)\n",
        "    return train_set, valid_set\n",
        "\n",
        "def load_imdb_data(batch_size=32):\n",
        "    \"\"\"\n",
        "    This function loads the IMDB dataset and creates train, validation and test sets.\n",
        "    It should take around 15-20 minutes to run on the first time (it downloads the GloVe embeddings, IMDB dataset and extracts the vocab).\n",
        "    Don't worry, it will be fast on the next runs. It is recommended to run this function before you start implementing the training logic.\n",
        "    :return: train_set, valid_set, test_set, train_loader, valid_loader, test_loader, vocab, pad_id\n",
        "    \"\"\"\n",
        "    cwd = os.getcwd()\n",
        "    if not os.path.exists(cwd + '/.vector_cache'):\n",
        "        os.makedirs(cwd + '/.vector_cache')\n",
        "    if not os.path.exists(cwd + '/.data'):\n",
        "        os.makedirs(cwd + '/.data')\n",
        "    # Extract the initial vocab from the IMDB dataset\n",
        "    vocab = IMDB(data_select='train')[0].get_vocab()\n",
        "    # Create GloVe embeddings based on original vocab word frequencies\n",
        "    glove_vocab = torchtext.vocab.Vocab(counter=vocab.freqs,\n",
        "                                        max_size=MAX_VOCAB_SIZE,\n",
        "                                        min_freq=MIN_FREQ,\n",
        "                                        vectors=torchtext.vocab.GloVe(name='6B'))\n",
        "    # Acquire 'Spacy' tokenizer for the vocab words\n",
        "    tokenizer = get_tokenizer('spacy', 'en_core_web_sm')\n",
        "    # Acquire train and test IMDB sets with previously created GloVe vocab and 'Spacy' tokenizer\n",
        "    train_set, test_set = IMDB(tokenizer=tokenizer, vocab=glove_vocab)\n",
        "    vocab = train_set.get_vocab()  # Extract the vocab of the acquired train set\n",
        "    pad_id = vocab['<pad>']  # Extract the token used for padding\n",
        "\n",
        "    train_set, valid_set = split_train_val(train_set)  # Split the train set into train and validation sets\n",
        "\n",
        "    train_loader = DataLoader(train_set, batch_size=batch_size, collate_fn=pad_trim)\n",
        "    valid_loader = DataLoader(valid_set, batch_size=batch_size, collate_fn=pad_trim)\n",
        "    test_loader = DataLoader(test_set, batch_size=batch_size, collate_fn=pad_trim)\n",
        "    return train_set, valid_set, test_set, train_loader, valid_loader, test_loader, vocab, pad_id"
      ]
    },
    {
      "cell_type": "code",
      "execution_count": 22,
      "metadata": {
        "id": "lPIAJLg94Gf-"
      },
      "outputs": [],
      "source": [
        "def train_and_eval_model(model, device, criterion, optimizer, train_loader, valid_loader, test_loader, num_of_epochs=5):\n",
        "    model_loss = {'Train': [], 'Valid': []}\n",
        "    for epoch in range(num_of_epochs):\n",
        "        # Train Model\n",
        "        train_loss_values = []\n",
        "        model.train()\n",
        "        for batch in tqdm(train_loader, desc='Train', total=len(train_loader)):\n",
        "            inputs_embeddings, labels = batch\n",
        "            inputs_embeddings, labels = inputs_embeddings.to(device), labels.to(device)\n",
        "            optimizer.zero_grad()\n",
        "            outputs = model(inputs_embeddings.squeeze())\n",
        "            loss = criterion(outputs.squeeze(), labels)\n",
        "            loss.backward()\n",
        "            optimizer.step()\n",
        "            train_loss_values.append(loss.item())\n",
        "\n",
        "        epoch_train_loss = np.mean(train_loss_values)\n",
        "\n",
        "        # Eval on validation set\n",
        "        valid_loss_values = []\n",
        "        model.eval()\n",
        "        with torch.no_grad():\n",
        "            for batch in tqdm(valid_loader, desc='Valid', total=len(valid_loader)):\n",
        "                inputs_embeddings, labels = batch\n",
        "                inputs_embeddings, labels = inputs_embeddings.to(device), labels.to(device)\n",
        "                outputs = model(inputs_embeddings.squeeze())\n",
        "                loss = criterion(outputs.squeeze(), labels)\n",
        "                valid_loss_values.append(loss.item())\n",
        "\n",
        "        epoch_valid_loss = np.mean(valid_loss_values)\n",
        "        print(f'Epoch {epoch + 1}/{num_of_epochs}, Train Loss: {epoch_train_loss:.6f}, Valid Loss: {epoch_valid_loss:.6f}')\n",
        "        model_loss['Train'].append(epoch_train_loss)\n",
        "        model_loss['Valid'].append(epoch_valid_loss)\n",
        "\n",
        "\n",
        "    # Plot train and valid loss\n",
        "    plt.plot(model_loss['Train'], label='Train', marker='o')\n",
        "    plt.plot(model_loss['Valid'], label='Valid', marker='o')\n",
        "    plt.xlabel('Epoch')\n",
        "    plt.ylabel('Loss')\n",
        "    plt.legend()\n",
        "    plt.show()\n",
        "    return model, model_loss\n",
        "\n",
        "def compute_test_accuracy(model, test_loader, device):\n",
        "    model.eval()\n",
        "    with torch.no_grad():\n",
        "        correct_preds = 0.\n",
        "        for batch in tqdm(test_loader, desc='Test', total=len(test_loader)):\n",
        "            inputs_embeddings, labels = batch\n",
        "            inputs_embeddings, labels = inputs_embeddings.to(device), labels.to(device)\n",
        "            outputs = model(inputs_embeddings.squeeze())\n",
        "            predicted = torch.round(torch.sigmoid(outputs.squeeze()))\n",
        "            correct_preds += (predicted == labels).sum().item()\n",
        "        eval_accuracy = correct_preds / len(test_loader.dataset)\n",
        "        print(\"Test accuracy:\", eval_accuracy)\n",
        "    return eval_accuracy"
      ]
    },
    {
      "cell_type": "code",
      "execution_count": 23,
      "metadata": {
        "colab": {
          "base_uri": "https://localhost:8080/",
          "height": 761
        },
        "id": "kWiyGypS0Rgl",
        "outputId": "cfc7476e-a013-4784-b579-cad66986becc"
      },
      "outputs": [
        {
          "name": "stderr",
          "output_type": "stream",
          "text": [
            "25000lines [00:10, 2462.95lines/s]\n",
            "Train: 100%|██████████| 625/625 [00:20<00:00, 30.83it/s]\n",
            "Valid: 100%|██████████| 157/157 [00:01<00:00, 81.69it/s]\n"
          ]
        },
        {
          "name": "stdout",
          "output_type": "stream",
          "text": [
            "Epoch 1/5, Train Loss: 0.482955, Valid Loss: 0.386583\n"
          ]
        },
        {
          "name": "stderr",
          "output_type": "stream",
          "text": [
            "Train: 100%|██████████| 625/625 [00:20<00:00, 30.61it/s]\n",
            "Valid: 100%|██████████| 157/157 [00:02<00:00, 73.00it/s]\n"
          ]
        },
        {
          "name": "stdout",
          "output_type": "stream",
          "text": [
            "Epoch 2/5, Train Loss: 0.359801, Valid Loss: 0.368043\n"
          ]
        },
        {
          "name": "stderr",
          "output_type": "stream",
          "text": [
            "Train: 100%|██████████| 625/625 [00:20<00:00, 30.25it/s]\n",
            "Valid: 100%|██████████| 157/157 [00:01<00:00, 78.92it/s]\n"
          ]
        },
        {
          "name": "stdout",
          "output_type": "stream",
          "text": [
            "Epoch 3/5, Train Loss: 0.342035, Valid Loss: 0.357704\n"
          ]
        },
        {
          "name": "stderr",
          "output_type": "stream",
          "text": [
            "Train: 100%|██████████| 625/625 [00:20<00:00, 29.92it/s]\n",
            "Valid: 100%|██████████| 157/157 [00:01<00:00, 78.73it/s]\n"
          ]
        },
        {
          "name": "stdout",
          "output_type": "stream",
          "text": [
            "Epoch 4/5, Train Loss: 0.332333, Valid Loss: 0.352118\n"
          ]
        },
        {
          "name": "stderr",
          "output_type": "stream",
          "text": [
            "Train: 100%|██████████| 625/625 [00:21<00:00, 29.57it/s]\n",
            "Valid: 100%|██████████| 157/157 [00:02<00:00, 77.54it/s]\n"
          ]
        },
        {
          "name": "stdout",
          "output_type": "stream",
          "text": [
            "Epoch 5/5, Train Loss: 0.325601, Valid Loss: 0.348401\n"
          ]
        },
        {
          "data": {
            "image/png": "[encoded data removed]",
            "text/plain": [
              "<Figure size 640x480 with 1 Axes>"
            ]
          },
          "metadata": {},
          "output_type": "display_data"
        },
        {
          "name": "stderr",
          "output_type": "stream",
          "text": [
            "Test: 100%|██████████| 782/782 [00:10<00:00, 76.13it/s]"
          ]
        },
        {
          "name": "stdout",
          "output_type": "stream",
          "text": [
            "Test accuracy: 0.85236\n"
          ]
        },
        {
          "name": "stderr",
          "output_type": "stream",
          "text": [
            "\n"
          ]
        }
      ],
      "source": [
        "device = torch.device('cuda' if torch.cuda.is_available() else 'cpu')\n",
        "MAX_VOCAB_SIZE = 25000 # Maximum number of words in the vocabulary\n",
        "MIN_FREQ = 10 # We include only words which occur in the corpus with some minimal frequency\n",
        "MAX_SEQ_LEN = 500 # We trim/pad each sentence to this number of words\n",
        "SPLIT_RATIO = 0.8 # Split ratio between train and validation set\n",
        "SEED = 0\n",
        "\n",
        "# HYPERPARAMETERS\n",
        "batch_size = 32\n",
        "num_of_blocks = 1\n",
        "num_of_epochs = 5\n",
        "learning_rate = 0.0001\n",
        "\n",
        "# Load the IMDB dataset\n",
        "train_set, valid_set, test_set, train_loader, valid_loader, test_loader, vocab, pad_id = load_imdb_data()\n",
        "\n",
        "model = MyTransformer(vocab=vocab, max_len=MAX_SEQ_LEN, num_of_blocks=num_of_blocks).to(device)\n",
        "optimizer = torch.optim.Adam(model.parameters(), lr=learning_rate)\n",
        "criterion = torch.nn.BCEWithLogitsLoss()\n",
        "# Complete Sentiment Analysis model training and evaluation\n",
        "model, losses = train_and_eval_model(model, device, criterion, optimizer, train_loader, valid_loader, test_loader, num_of_epochs=num_of_epochs)\n",
        "test_acc = compute_test_accuracy(model, test_loader, device)\n",
        "\n"
      ]
    }
  ],
  "metadata": {
    "accelerator": "GPU",
    "colab": {
      "gpuType": "T4",
      "provenance": []
    },
    "kernelspec": {
      "display_name": "Python 3",
      "name": "python3"
    },
    "language_info": {
      "name": "python"
    }
  },
  "nbformat": 4,
  "nbformat_minor": 0
}
